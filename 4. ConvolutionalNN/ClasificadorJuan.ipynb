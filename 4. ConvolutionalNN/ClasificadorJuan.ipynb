{
 "cells": [
  {
   "cell_type": "markdown",
   "id": "da480973-ee2b-4c4e-847a-941c9c70c77b",
   "metadata": {},
   "source": [
    "### Imports."
   ]
  },
  {
   "cell_type": "code",
   "execution_count": 1,
   "id": "99c06aac-b95d-4c9c-924c-9e85fec47ccd",
   "metadata": {
    "tags": []
   },
   "outputs": [],
   "source": [
    "import numpy as np\n",
    "import matplotlib.pyplot as plt\n",
    "import pandas as pd\n",
    "import pickle\n",
    "\n",
    "import torch\n",
    "from torch import nn\n",
    "from torch.nn import functional as F\n",
    "import torch.optim as optim\n",
    "from torch.utils.data import Dataset, DataLoader, Subset, random_split\n",
    "from torchvision import datasets\n",
    "from torchvision.transforms import ToTensor, Lambda, Compose"
   ]
  },
  {
   "cell_type": "markdown",
   "id": "8aab2708-ec19-4dce-96a7-0396d8bdaa9a",
   "metadata": {
    "tags": []
   },
   "source": [
    "### Device."
   ]
  },
  {
   "cell_type": "code",
   "execution_count": 2,
   "id": "5311129c-29d4-4b13-a4fe-a4feefc5d2d2",
   "metadata": {},
   "outputs": [
    {
     "name": "stdout",
     "output_type": "stream",
     "text": [
      "Current device: cpu\n"
     ]
    }
   ],
   "source": [
    "device = 'cuda' if torch.cuda.is_available() else 'cpu'\n",
    "print('Current device: {}'.format(device))"
   ]
  },
  {
   "cell_type": "markdown",
   "id": "61ef1503-3143-477b-a6cd-d0fd8a4d6045",
   "metadata": {},
   "source": [
    "### Dataset."
   ]
  },
  {
   "cell_type": "code",
   "execution_count": 3,
   "id": "c0e76611-08df-4e16-a7c8-0e20102b94fe",
   "metadata": {},
   "outputs": [],
   "source": [
    "# Load Fashion-MNIST Dataset.\n",
    "# Dataset pre-selected for training.\n",
    "train_dataset = datasets.FashionMNIST(\n",
    "    root = \"data\",\n",
    "    train = True,\n",
    "    download = True,\n",
    "    transform = ToTensor()\n",
    ")\n",
    "# Dataset pre-selected for testing.\n",
    "test_dataset = datasets.FashionMNIST(\n",
    "    root = \"data\",\n",
    "    train = False,\n",
    "    download = True,\n",
    "    transform = ToTensor()\n",
    ")\n",
    "\n",
    "# Set labels.\n",
    "labels_map = {\n",
    "    0: \"T-Shirt\",\n",
    "    1: \"Trouser\",\n",
    "    2: \"Pullover\",\n",
    "    3: \"Dress\",\n",
    "    4: \"Coat\",\n",
    "    5: \"Sandal\",\n",
    "    6: \"Shirt\",\n",
    "    7: \"Sneaker\",\n",
    "    8: \"Bag\",\n",
    "    9: \"Ankle Boot\",\n",
    "}"
   ]
  },
  {
   "cell_type": "code",
   "execution_count": 4,
   "id": "4d83d4ed-d52e-4d94-b69b-e7a1626e4973",
   "metadata": {},
   "outputs": [],
   "source": [
    "# We want to split the training dataset into a training dataset and a validation dataset.\n",
    "# We will do this using random_split with a fixed seed to enable reproducibility.\n",
    "\n",
    "# Check current seed. This was used once to check for the seed and that one was chosen.\n",
    "#torch.Generator().seed()\n",
    "\n",
    "# Set seed via Generator.\n",
    "gen = torch.Generator()\n",
    "gen.manual_seed(317112508772318)\n",
    "\n",
    "# Use random_split with the Generator.\n",
    "train_dataset, valid_dataset = random_split(train_dataset, [50000, 10000], generator = gen)"
   ]
  },
  {
   "cell_type": "markdown",
   "id": "c83b012c-cb42-4502-9b17-c7cd5d4cb9c8",
   "metadata": {},
   "source": [
    "#### Check if split works as it should."
   ]
  },
  {
   "cell_type": "code",
   "execution_count": 5,
   "id": "4b3965a8-3517-4c94-bb5d-d59ceffee353",
   "metadata": {
    "tags": []
   },
   "outputs": [
    {
     "name": "stdout",
     "output_type": "stream",
     "text": [
      "Image 38184 of 50000. Training.\n"
     ]
    },
    {
     "data": {
      "image/png": "[encoded data removed]",
      "text/plain": [
       "<Figure size 432x288 with 1 Axes>"
      ]
     },
     "metadata": {
      "needs_background": "light"
     },
     "output_type": "display_data"
    },
    {
     "name": "stdout",
     "output_type": "stream",
     "text": [
      "Number of training images: 50000.\n",
      "Number of validation images: 10000.\n",
      "Number of testing images: 10000.\n"
     ]
    }
   ],
   "source": [
    "# Borrowed code from previous assignment.\n",
    "\n",
    "# Plot specific image, chosen at random. Should be a sandal.\n",
    "dummy_index = 38184\n",
    "dummy_img, dummy_label = train_dataset[dummy_index]\n",
    "print(\"Image {} of {}. Training.\".format(dummy_index, len(train_dataset)))\n",
    "\n",
    "plt.title(\"Label: {}.\".format(labels_map[dummy_label]))\n",
    "# To not use train_dataset[dummy_index][0][0] we use squeeze, which removes dimensions of size 1.\n",
    "plt.imshow(dummy_img.squeeze(), cmap = 'gray')\n",
    "plt.show()\n",
    "\n",
    "print(\"Number of training images: {}.\".format(len(train_dataset)))\n",
    "print(\"Number of validation images: {}.\".format(len(valid_dataset)))\n",
    "print(\"Number of testing images: {}.\".format(len(test_dataset)))"
   ]
  },
  {
   "cell_type": "markdown",
   "id": "77a4ff90-39d4-47d8-a2ad-343c673c2a48",
   "metadata": {},
   "source": [
    "### Artificial Neural Network"
   ]
  },
  {
   "cell_type": "code",
   "execution_count": 6,
   "id": "5b8dcf06-1265-4353-9188-8be09a442111",
   "metadata": {},
   "outputs": [],
   "source": [
    "# Artificial Neural Network as a subclass of nn.Module (neural network module).\n",
    "# Structure of the ANN is as follows:\n",
    "# -> 28*28 input layer.\n",
    "# -> n_hidden hidden layer. Default value is 512.\n",
    "# -> 28*28 output layer.\n",
    "# The dropout probability is p_dropout. Default value is 0.1.\n",
    "class ANN(nn.Module):\n",
    "    def __init__(self, n_hidden = 512, p_dropout = 0.1):\n",
    "        super().__init__()\n",
    "        # Name, for reference purposes.\n",
    "        self.name = \"ANN-Juan-{}-{}\".format(n_hidden, p_dropout)\n",
    "        # Structure.\n",
    "        self.linear1 = nn.Sequential(\n",
    "                            nn.Linear(28*28, n_hidden),\n",
    "                            nn.Dropout(p_dropout),\n",
    "                            nn.ReLU()\n",
    "                            )\n",
    "        \n",
    "        self.linear2 = nn.Linear(n_hidden, 10)\n",
    "        \n",
    "        # Functions.\n",
    "        self.flatten = nn.Flatten()\n",
    "    \n",
    "    # Method to compute output tensor from input tensor.\n",
    "    def forward(self, input_tensor):\n",
    "        input_tensor = self.flatten(input_tensor)\n",
    "        input_tensor = self.linear1(input_tensor)\n",
    "        input_tensor = self.linear2(input_tensor)\n",
    "        return input_tensor\n",
    "\n",
    "# Note: dropout is usually applied after the activation function. When using rectified linear units,\n",
    "# we apply it before the activation function since in this case the order doesn't matter and it's \n",
    "# more computationally efficient."
   ]
  },
  {
   "cell_type": "markdown",
   "id": "266d6f2e-121d-4c79-81a1-3bd970f3ed34",
   "metadata": {},
   "source": [
    "### Training and Testing."
   ]
  },
  {
   "cell_type": "code",
   "execution_count": 7,
   "id": "6eac3c12-64a9-4eab-8892-460b82161b06",
   "metadata": {},
   "outputs": [],
   "source": [
    "# Training function.\n",
    "def train(dataloader, model, loss_function, optimizer, sample_data = False, sample_data_threshold = 20):\n",
    "    if sample_data:\n",
    "        num_samples_total = len(dataloader.dataset)\n",
    "    # Set training mode.\n",
    "    model.train()\n",
    "    ##model = model.to(device) for gpu.\n",
    "    # Iteration.\n",
    "    for batch, (input_tensor, reference_tensor) in enumerate(dataloader):\n",
    "        ###input_tensor = input_tensor.to(device) for gpu.\n",
    "        ###reference_tensor = reference_tensor.to(device) for gpu.\n",
    "        # Calculate output tensor and evaluate loss function.\n",
    "        output_tensor = model(input_tensor)\n",
    "        loss = loss_function(output_tensor, reference_tensor) \n",
    "        \n",
    "        # Backpropagation using corresponding optimizer.\n",
    "        optimizer.zero_grad()\n",
    "        loss.backward()\n",
    "        optimizer.step()\n",
    "        \n",
    "        if sample_data:\n",
    "            if batch % sample_data_threshold * len(input_tensor) == 0:\n",
    "                # Get loss as a number.\n",
    "                loss = loss.item()\n",
    "                # Get total number of processed samples as batch number times number of samples in each batch.\n",
    "                num_samples = batch * len(input_tensor)\n",
    "                # Print progress.\n",
    "                print(\"Batch: {}. Processed {}/{} samples. Loss: {:.8f}.\".format(batch, num_samples, num_samples_total, loss))\n",
    "                \n",
    "# Testing function.\n",
    "def test(dataloader, model, loss_function):\n",
    "    # Get number of samples in the dataset.\n",
    "    num_samples_total = len(dataloader.dataset)\n",
    "    # Get number of batches.\n",
    "    num_batches_total = len(dataloader)\n",
    "    # Set variables for loss and correct predictions.\n",
    "    total_loss = 0\n",
    "    total_correct_predictions = 0\n",
    "    # Set evaluation mode.\n",
    "    model.eval()\n",
    "    ###model = model.to(device) for gpu.\n",
    "    # Disabling gradient calculation\n",
    "    with torch.no_grad():\n",
    "        # Iteration.\n",
    "        for input_tensor, reference_tensor in dataloader:\n",
    "            ###input_tensor = input_tensor.to(device) for gpu.\n",
    "            ###reference_tensor = reference_tensor.to(device) for gpu.\n",
    "            # Calculate output tensor and evaluate loss function.\n",
    "            output_tensor = model(input_tensor)\n",
    "            loss = loss_function(output_tensor, reference_tensor)\n",
    "            # Add calculated loss to the total_loss variable.\n",
    "            total_loss += loss.item()\n",
    "            # Add number of correct predictions to the total_correct_predictions variable.\n",
    "            total_correct_predictions += (output_tensor.argmax(1) == reference_tensor).type(torch.float).sum().item()\n",
    "    # Calculate average loss.\n",
    "    average_loss = total_loss / num_batches_total\n",
    "    accuracy = 100 * total_correct_predictions / num_samples_total\n",
    "    return average_loss, accuracy"
   ]
  },
  {
   "cell_type": "markdown",
   "id": "2bf9169c-a93f-46fe-84af-5f76716e2e00",
   "metadata": {},
   "source": [
    "### Parameter Initialization"
   ]
  },
  {
   "cell_type": "code",
   "execution_count": 8,
   "id": "57c626df-4e18-4a58-bc3c-678bdd4ecf36",
   "metadata": {},
   "outputs": [],
   "source": [
    "# Training parameters.\n",
    "learning_rate = 1e-3\n",
    "batch_size = 500\n",
    "num_epochs = 50\n",
    "\n",
    "# Artificial Neural Network parameters.\n",
    "p_dropout_list = [0.1, 0.25]\n",
    "\n",
    "# Dataloaders; iterables over datasets.\n",
    "train_dataloader = DataLoader(train_dataset, batch_size)\n",
    "valid_dataloader = DataLoader(valid_dataset, batch_size)\n",
    "test_dataloader = DataLoader(test_dataset, batch_size)\n",
    "\n",
    "# Loss function; Cross Entrpy Loss.\n",
    "loss_function = nn.CrossEntropyLoss()\n",
    "\n",
    "# DataFrame to store calculated values.\n",
    "df = pd.DataFrame()\n",
    "save_loss = True\n",
    "\n",
    "# Save model variable.\n",
    "save_model = True"
   ]
  },
  {
   "cell_type": "markdown",
   "id": "b4dac746-39c8-45d2-8f0c-68e9fa30ee88",
   "metadata": {},
   "source": [
    "### Training Loop"
   ]
  },
  {
   "cell_type": "code",
   "execution_count": 9,
   "id": "e91de8bd-e802-4367-a077-1e6206450778",
   "metadata": {},
   "outputs": [
    {
     "name": "stdout",
     "output_type": "stream",
     "text": [
      "Start time:\n",
      "2022-08-07 18:28:11\n",
      "\n",
      "2022-08-07 18:28:11\n",
      "Model: ANN-Juan-512-0.1\n",
      "-------------------------------\n",
      "2022-08-07 18:30:38\n",
      "Epoch: 10. Train Loss: 0.2837082169950008. Validation Loss: 0.34212376922369003.\n",
      "Epoch: 10. Train accuracy: 89.54. Validation Accuracy: 87.7.\n",
      "2022-08-07 18:33:07\n",
      "Epoch: 20. Train Loss: 0.2231664091348648. Validation Loss: 0.3226766616106033.\n",
      "Epoch: 20. Train accuracy: 91.764. Validation Accuracy: 88.15.\n",
      "2022-08-07 18:35:35\n",
      "Epoch: 30. Train Loss: 0.18413885608315467. Validation Loss: 0.3289329960942268.\n",
      "Epoch: 30. Train accuracy: 93.18. Validation Accuracy: 88.51.\n",
      "2022-08-07 18:38:00\n",
      "Epoch: 40. Train Loss: 0.14581643871963024. Validation Loss: 0.3297852918505669.\n",
      "Epoch: 40. Train accuracy: 94.654. Validation Accuracy: 88.96.\n",
      "2022-08-07 18:40:25\n",
      "Epoch: 50. Train Loss: 0.11811021864414215. Validation Loss: 0.3436082422733307.\n",
      "Epoch: 50. Train accuracy: 95.67. Validation Accuracy: 89.15.\n",
      "2022-08-07 18:40:25\n",
      "Model: ANN-Juan-512-0.1. Done!\n",
      "-------------------------------\n",
      "\n",
      "2022-08-07 18:40:25\n",
      "Model: ANN-Juan-512-0.25\n",
      "-------------------------------\n",
      "2022-08-07 18:42:54\n",
      "Epoch: 10. Train Loss: 0.28768068194389346. Validation Loss: 0.3388161793351173.\n",
      "Epoch: 10. Train accuracy: 89.378. Validation Accuracy: 87.69.\n",
      "2022-08-07 18:45:23\n",
      "Epoch: 20. Train Loss: 0.22242911890149117. Validation Loss: 0.3081517919898033.\n",
      "Epoch: 20. Train accuracy: 91.894. Validation Accuracy: 88.45.\n",
      "2022-08-07 18:47:51\n",
      "Epoch: 30. Train Loss: 0.1778683492541313. Validation Loss: 0.2947960138320923.\n",
      "Epoch: 30. Train accuracy: 93.648. Validation Accuracy: 89.35.\n",
      "2022-08-07 18:50:20\n",
      "Epoch: 40. Train Loss: 0.1452475045621395. Validation Loss: 0.30053539350628855.\n",
      "Epoch: 40. Train accuracy: 94.838. Validation Accuracy: 89.62.\n",
      "2022-08-07 18:52:48\n",
      "Epoch: 50. Train Loss: 0.13159187465906144. Validation Loss: 0.31683350875973704.\n",
      "Epoch: 50. Train accuracy: 95.19. Validation Accuracy: 89.44.\n",
      "2022-08-07 18:52:48\n",
      "Model: ANN-Juan-512-0.25. Done!\n",
      "-------------------------------\n",
      "\n"
     ]
    }
   ],
   "source": [
    "from datetime import datetime\n",
    "print(\"Start time:\\n{}\\n\".format(datetime.now().strftime(\"%Y-%m-%d %H:%M:%S\")))\n",
    "\n",
    "for p_dropout in p_dropout_list:\n",
    "    # Initialize model.\n",
    "    model = ANN(512, p_dropout)\n",
    "    # Optimizer.\n",
    "    optimizer = torch.optim.Adam(model.parameters(), learning_rate)\n",
    "    print(datetime.now().strftime(\"%Y-%m-%d %H:%M:%S\"))\n",
    "    print(\"Model: {}\\n-------------------------------\".format(model.name))\n",
    "\n",
    "    for epoch in range(num_epochs):\n",
    "        #print(datetime.now().strftime(\"%Y-%m-%d %H:%M:%S\"))\n",
    "        # Train model.\n",
    "        train(train_dataloader, model, loss_function, optimizer)\n",
    "        # Evaluate loss function.\n",
    "        train_loss, train_accuracy = test(train_dataloader, model, loss_function)\n",
    "        valid_loss, valid_accuracy = test(valid_dataloader, model, loss_function)\n",
    "        if save_loss:\n",
    "            # Add values to DataFrame.\n",
    "            df = df.append({\"model\": model.name, \n",
    "                            \"epoch\": epoch + 1, \n",
    "                            \"train_loss\": train_loss,\n",
    "                            \"train_accuracy\": train_accuracy,\n",
    "                            \"valid_loss\": valid_loss,\n",
    "                            \"valid_accuracy\": valid_accuracy},\n",
    "                            ignore_index = True)\n",
    "            # Safety save.\n",
    "            df.to_pickle(r\"models\\safety-juan.pkl\")\n",
    "\n",
    "        if (epoch + 1) % 10 == 0:\n",
    "            print(datetime.now().strftime(\"%Y-%m-%d %H:%M:%S\"))\n",
    "            print(\"Epoch: {}. Train Loss: {}. Validation Loss: {}.\".format(epoch + 1, train_loss, valid_loss))\n",
    "            print(\"Epoch: {}. Train accuracy: {}. Validation Accuracy: {}.\".format(epoch + 1, train_accuracy, valid_accuracy))\n",
    "\n",
    "    if save_model:\n",
    "        model_filename = r\"models\\{}.pth\".format(model.name)\n",
    "        torch.save(model.state_dict(), model_filename)\n",
    "\n",
    "    print(datetime.now().strftime(\"%Y-%m-%d %H:%M:%S\"))\n",
    "    print(\"Model: {}. Done!\\n-------------------------------\\n\".format(model.name))\n",
    "        \n",
    "if save_loss:\n",
    "    # Save DataFrame.\n",
    "    df.to_pickle(r\"models\\dataframe-juan.pkl\")"
   ]
  },
  {
   "cell_type": "code",
   "execution_count": 9,
   "id": "c51fb28f-ee0d-416c-891f-5acd9ff4c6c1",
   "metadata": {
    "tags": []
   },
   "outputs": [
    {
     "data": {
      "text/html": [
       "<div>\n",
       "<style scoped>\n",
       "    .dataframe tbody tr th:only-of-type {\n",
       "        vertical-align: middle;\n",
       "    }\n",
       "\n",
       "    .dataframe tbody tr th {\n",
       "        vertical-align: top;\n",
       "    }\n",
       "\n",
       "    .dataframe thead th {\n",
       "        text-align: right;\n",
       "    }\n",
       "</style>\n",
       "<table border=\"1\" class=\"dataframe\">\n",
       "  <thead>\n",
       "    <tr style=\"text-align: right;\">\n",
       "      <th></th>\n",
       "      <th>model</th>\n",
       "      <th>epoch</th>\n",
       "      <th>train_loss</th>\n",
       "      <th>train_accuracy</th>\n",
       "      <th>valid_loss</th>\n",
       "      <th>valid_accuracy</th>\n",
       "    </tr>\n",
       "  </thead>\n",
       "  <tbody>\n",
       "    <tr>\n",
       "      <th>0</th>\n",
       "      <td>ANN-Juan-512-0.1</td>\n",
       "      <td>1.0</td>\n",
       "      <td>0.483724</td>\n",
       "      <td>83.188</td>\n",
       "      <td>0.508798</td>\n",
       "      <td>82.42</td>\n",
       "    </tr>\n",
       "    <tr>\n",
       "      <th>1</th>\n",
       "      <td>ANN-Juan-512-0.1</td>\n",
       "      <td>2.0</td>\n",
       "      <td>0.425743</td>\n",
       "      <td>84.766</td>\n",
       "      <td>0.452671</td>\n",
       "      <td>84.12</td>\n",
       "    </tr>\n",
       "    <tr>\n",
       "      <th>2</th>\n",
       "      <td>ANN-Juan-512-0.1</td>\n",
       "      <td>3.0</td>\n",
       "      <td>0.390716</td>\n",
       "      <td>85.992</td>\n",
       "      <td>0.420744</td>\n",
       "      <td>84.91</td>\n",
       "    </tr>\n",
       "    <tr>\n",
       "      <th>3</th>\n",
       "      <td>ANN-Juan-512-0.1</td>\n",
       "      <td>4.0</td>\n",
       "      <td>0.365727</td>\n",
       "      <td>86.820</td>\n",
       "      <td>0.398983</td>\n",
       "      <td>85.72</td>\n",
       "    </tr>\n",
       "    <tr>\n",
       "      <th>4</th>\n",
       "      <td>ANN-Juan-512-0.1</td>\n",
       "      <td>5.0</td>\n",
       "      <td>0.344358</td>\n",
       "      <td>87.616</td>\n",
       "      <td>0.382160</td>\n",
       "      <td>86.49</td>\n",
       "    </tr>\n",
       "    <tr>\n",
       "      <th>...</th>\n",
       "      <td>...</td>\n",
       "      <td>...</td>\n",
       "      <td>...</td>\n",
       "      <td>...</td>\n",
       "      <td>...</td>\n",
       "      <td>...</td>\n",
       "    </tr>\n",
       "    <tr>\n",
       "      <th>95</th>\n",
       "      <td>ANN-Juan-512-0.25</td>\n",
       "      <td>46.0</td>\n",
       "      <td>0.137683</td>\n",
       "      <td>95.116</td>\n",
       "      <td>0.306731</td>\n",
       "      <td>89.71</td>\n",
       "    </tr>\n",
       "    <tr>\n",
       "      <th>96</th>\n",
       "      <td>ANN-Juan-512-0.25</td>\n",
       "      <td>47.0</td>\n",
       "      <td>0.137740</td>\n",
       "      <td>94.902</td>\n",
       "      <td>0.319854</td>\n",
       "      <td>89.57</td>\n",
       "    </tr>\n",
       "    <tr>\n",
       "      <th>97</th>\n",
       "      <td>ANN-Juan-512-0.25</td>\n",
       "      <td>48.0</td>\n",
       "      <td>0.129808</td>\n",
       "      <td>95.248</td>\n",
       "      <td>0.312507</td>\n",
       "      <td>89.75</td>\n",
       "    </tr>\n",
       "    <tr>\n",
       "      <th>98</th>\n",
       "      <td>ANN-Juan-512-0.25</td>\n",
       "      <td>49.0</td>\n",
       "      <td>0.136527</td>\n",
       "      <td>94.906</td>\n",
       "      <td>0.316124</td>\n",
       "      <td>89.36</td>\n",
       "    </tr>\n",
       "    <tr>\n",
       "      <th>99</th>\n",
       "      <td>ANN-Juan-512-0.25</td>\n",
       "      <td>50.0</td>\n",
       "      <td>0.131592</td>\n",
       "      <td>95.190</td>\n",
       "      <td>0.316834</td>\n",
       "      <td>89.44</td>\n",
       "    </tr>\n",
       "  </tbody>\n",
       "</table>\n",
       "<p>100 rows × 6 columns</p>\n",
       "</div>"
      ],
      "text/plain": [
       "                model  epoch  train_loss  train_accuracy  valid_loss  \\\n",
       "0    ANN-Juan-512-0.1    1.0    0.483724          83.188    0.508798   \n",
       "1    ANN-Juan-512-0.1    2.0    0.425743          84.766    0.452671   \n",
       "2    ANN-Juan-512-0.1    3.0    0.390716          85.992    0.420744   \n",
       "3    ANN-Juan-512-0.1    4.0    0.365727          86.820    0.398983   \n",
       "4    ANN-Juan-512-0.1    5.0    0.344358          87.616    0.382160   \n",
       "..                ...    ...         ...             ...         ...   \n",
       "95  ANN-Juan-512-0.25   46.0    0.137683          95.116    0.306731   \n",
       "96  ANN-Juan-512-0.25   47.0    0.137740          94.902    0.319854   \n",
       "97  ANN-Juan-512-0.25   48.0    0.129808          95.248    0.312507   \n",
       "98  ANN-Juan-512-0.25   49.0    0.136527          94.906    0.316124   \n",
       "99  ANN-Juan-512-0.25   50.0    0.131592          95.190    0.316834   \n",
       "\n",
       "    valid_accuracy  \n",
       "0            82.42  \n",
       "1            84.12  \n",
       "2            84.91  \n",
       "3            85.72  \n",
       "4            86.49  \n",
       "..             ...  \n",
       "95           89.71  \n",
       "96           89.57  \n",
       "97           89.75  \n",
       "98           89.36  \n",
       "99           89.44  \n",
       "\n",
       "[100 rows x 6 columns]"
      ]
     },
     "execution_count": 9,
     "metadata": {},
     "output_type": "execute_result"
    }
   ],
   "source": [
    "# Load DataFrame.\n",
    "df_juan = pd.read_pickle(r\"models\\dataframe-juan.pkl\")\n",
    "\n",
    "df_juan"
   ]
  },
  {
   "cell_type": "code",
   "execution_count": 10,
   "id": "742e251b-371f-4bf5-9dc6-69eee57fd203",
   "metadata": {},
   "outputs": [
    {
     "data": {
      "image/png": "[encoded data removed]",
      "text/plain": [
       "<Figure size 432x288 with 1 Axes>"
      ]
     },
     "metadata": {
      "needs_background": "light"
     },
     "output_type": "display_data"
    }
   ],
   "source": [
    "for model in df_juan['model'].unique():\n",
    "    x_axis = df_juan[df_juan['model'] == model]['epoch'].values\n",
    "    #train_loss = df_juan[df_juan['model'] == model]['train_loss'].values\n",
    "    #train_acc = df_juan[df_juan['model'] == model]['train_accuracy'].values\n",
    "    #valid_loss = df_juan[df_juan['model'] == model]['valid_loss'].values\n",
    "    valid_acc = df_juan[df_juan['model'] == model]['valid_accuracy'].values\n",
    "    plt.plot(x_axis - 1, valid_acc, label = \"ANN{}{}, neurons: {}, dropout: {}.\".format(*tuple(model.strip(\"AN\").split(\"-\"))))\n",
    "plt.xlabel(\"Época\")\n",
    "plt.ylabel(\"Exactitud de Validación\")\n",
    "plt.legend()\n",
    "plt.title(\"Exactitud de Validación vs Épocas.\")\n",
    "#plt.ylim(0.004, 0.005)\n",
    "plt.rcParams[\"figure.figsize\"] = (17.5,7)\n",
    "plt.show()"
   ]
  },
  {
   "cell_type": "code",
   "execution_count": 11,
   "id": "408d0858-8bbe-41c8-9135-ffb1c0473932",
   "metadata": {
    "collapsed": true,
    "jupyter": {
     "outputs_hidden": true
    },
    "tags": []
   },
   "outputs": [
    {
     "name": "stdout",
     "output_type": "stream",
     "text": [
      "valid min: 0.3174000158905983\n",
      "epoch: 25.0\n"
     ]
    },
    {
     "data": {
      "image/png": "[encoded data removed]",
      "text/plain": [
       "<Figure size 1260x504 with 1 Axes>"
      ]
     },
     "metadata": {
      "needs_background": "light"
     },
     "output_type": "display_data"
    },
    {
     "name": "stdout",
     "output_type": "stream",
     "text": [
      "valid min: 0.2917287521064281\n",
      "epoch: 28.0\n"
     ]
    },
    {
     "data": {
      "image/png": "[encoded data removed]",
      "text/plain": [
       "<Figure size 1260x504 with 1 Axes>"
      ]
     },
     "metadata": {
      "needs_background": "light"
     },
     "output_type": "display_data"
    }
   ],
   "source": [
    "for model in df_juan['model'].unique():\n",
    "    x_axis = df_juan[df_juan['model'] == model]['epoch'].values\n",
    "    train_loss = df_juan[df_juan['model'] == model]['train_loss'].values\n",
    "    #train_acc = df_juan[df_juan['model'] == model]['train_accuracy'].values\n",
    "    valid_loss = df_juan[df_juan['model'] == model]['valid_loss'].values\n",
    "    #valid_acc = df_juan[df_juan['model'] == model]['valid_accuracy'].values\n",
    "    valid_min_index = np.argmin(valid_loss)\n",
    "    print(\"valid min: {}\".format(valid_loss[valid_min_index]))\n",
    "    print(\"epoch: {}\".format(x_axis[valid_min_index]))\n",
    "    plt.plot(x_axis, train_loss, label = \"Training. ANN{}{}, neurons: {}, dropout: {}.\".format(*tuple(model.strip(\"AN\").split(\"-\"))))\n",
    "    plt.plot(x_axis, valid_loss, label = \"Validation. ANN{}{}, neurons: {}, dropout: {}.\".format(*tuple(model.strip(\"AN\").split(\"-\"))))\n",
    "    plt.xlabel(\"Época\")\n",
    "    plt.ylabel(\"Pérdida\")\n",
    "    plt.legend()\n",
    "    plt.title(\"Pérdida vs Épocas.\")\n",
    "    #plt.ylim(0.004, 0.005)\n",
    "    plt.rcParams[\"figure.figsize\"] = (17.5,7)\n",
    "    plt.show()"
   ]
  },
  {
   "cell_type": "code",
   "execution_count": 12,
   "id": "0debe717-d315-47c8-aece-6716da07232a",
   "metadata": {},
   "outputs": [
    {
     "data": {
      "text/html": [
       "<div>\n",
       "<style scoped>\n",
       "    .dataframe tbody tr th:only-of-type {\n",
       "        vertical-align: middle;\n",
       "    }\n",
       "\n",
       "    .dataframe tbody tr th {\n",
       "        vertical-align: top;\n",
       "    }\n",
       "\n",
       "    .dataframe thead th {\n",
       "        text-align: right;\n",
       "    }\n",
       "</style>\n",
       "<table border=\"1\" class=\"dataframe\">\n",
       "  <thead>\n",
       "    <tr style=\"text-align: right;\">\n",
       "      <th></th>\n",
       "      <th>model</th>\n",
       "      <th>epoch</th>\n",
       "      <th>train_loss</th>\n",
       "      <th>train_accuracy</th>\n",
       "      <th>valid_loss</th>\n",
       "      <th>valid_accuracy</th>\n",
       "    </tr>\n",
       "  </thead>\n",
       "  <tbody>\n",
       "    <tr>\n",
       "      <th>1</th>\n",
       "      <td>ANN-Juan-512-0.25</td>\n",
       "      <td>28.0</td>\n",
       "      <td>0.182492</td>\n",
       "      <td>93.408</td>\n",
       "      <td>0.291729</td>\n",
       "      <td>89.33</td>\n",
       "    </tr>\n",
       "    <tr>\n",
       "      <th>0</th>\n",
       "      <td>ANN-Juan-512-0.1</td>\n",
       "      <td>25.0</td>\n",
       "      <td>0.196123</td>\n",
       "      <td>92.796</td>\n",
       "      <td>0.317400</td>\n",
       "      <td>88.51</td>\n",
       "    </tr>\n",
       "  </tbody>\n",
       "</table>\n",
       "</div>"
      ],
      "text/plain": [
       "               model  epoch  train_loss  train_accuracy  valid_loss  \\\n",
       "1  ANN-Juan-512-0.25   28.0    0.182492          93.408    0.291729   \n",
       "0   ANN-Juan-512-0.1   25.0    0.196123          92.796    0.317400   \n",
       "\n",
       "   valid_accuracy  \n",
       "1           89.33  \n",
       "0           88.51  "
      ]
     },
     "execution_count": 12,
     "metadata": {},
     "output_type": "execute_result"
    }
   ],
   "source": [
    "df1_juan = pd.DataFrame()\n",
    "    \n",
    "for model in df_juan['model'].unique():\n",
    "    # Store all values for the model.\n",
    "    epoch = df_juan[df_juan['model'] == model]['epoch'].values\n",
    "    train_loss = df_juan[df_juan['model'] == model]['train_loss'].values\n",
    "    train_acc = df_juan[df_juan['model'] == model]['train_accuracy'].values\n",
    "    valid_loss = df_juan[df_juan['model'] == model]['valid_loss'].values\n",
    "    valid_acc = df_juan[df_juan['model'] == model]['valid_accuracy'].values\n",
    "    \n",
    "    # Get index for minimum validation loss.\n",
    "    valid_min_index = np.argmin(valid_loss)\n",
    "    \n",
    "    # Store corresponding values in dataframe.\n",
    "    df1_juan = df1_juan.append({\"model\": model, \n",
    "                                \"epoch\": epoch[valid_min_index], \n",
    "                                \"train_loss\": train_loss[valid_min_index],\n",
    "                                \"train_accuracy\": train_acc[valid_min_index],\n",
    "                                \"valid_loss\": valid_loss[valid_min_index],\n",
    "                                \"valid_accuracy\": valid_acc[valid_min_index]},\n",
    "                                ignore_index = True)\n",
    "\n",
    "df1_juan.sort_values(by=['valid_accuracy'], ascending = False)"
   ]
  },
  {
   "cell_type": "markdown",
   "id": "75ff9333-1904-48ee-b42c-51425d86bb5a",
   "metadata": {},
   "source": [
    "#### Selected model: ANN-Juan-512-0.25"
   ]
  },
  {
   "cell_type": "code",
   "execution_count": 13,
   "id": "90ebdce9-6cb5-4270-bb10-8c6ddab6b179",
   "metadata": {},
   "outputs": [
    {
     "name": "stdout",
     "output_type": "stream",
     "text": [
      "Model: ANN-Juan-512-0.25-Final\n",
      "-------------------------------\n",
      "Model: ANN-Juan-512-0.25-Final. Done!\n",
      "-------------------------------\n",
      "\n"
     ]
    }
   ],
   "source": [
    "dff = pd.DataFrame()\n",
    "\n",
    "# Initialize model.\n",
    "model = ANN(512, 0.25)\n",
    "\n",
    "# Optimizer.\n",
    "optimizer = torch.optim.Adam(model.parameters(), learning_rate)\n",
    "\n",
    "print(\"Model: {}-Final\\n-------------------------------\".format(model.name))\n",
    "\n",
    "for epoch in range(28):\n",
    "    # Train model.\n",
    "    train(train_dataloader, model, loss_function, optimizer)\n",
    "    # Evaluate loss function.\n",
    "    train_loss, train_accuracy = test(train_dataloader, model, loss_function)\n",
    "    test_loss, test_accuracy = test(test_dataloader, model, loss_function)\n",
    "    if save_loss:\n",
    "        # Add values to DataFrame.\n",
    "        dff = dff.append({\"model\": \"{}-Final\".format(model.name), \n",
    "                        \"epoch\": epoch + 1, \n",
    "                        \"train_loss\": train_loss,\n",
    "                        \"train_accuracy\": train_accuracy,\n",
    "                        \"test_loss\": test_loss,\n",
    "                        \"test_accuracy\": test_accuracy},\n",
    "                        ignore_index = True)\n",
    "        # Safety save.\n",
    "        dff.to_pickle(r\"models\\safety-juan-final.pkl\")\n",
    "\n",
    "if save_model:\n",
    "    model_filename = r\"models\\{}-Final.pth\".format(model.name)\n",
    "    torch.save(model.state_dict(), model_filename)\n",
    "\n",
    "print(\"Model: {}-Final. Done!\\n-------------------------------\\n\".format(model.name))\n",
    "        \n",
    "if save_loss:\n",
    "    # Save DataFrame.\n",
    "    dff.to_pickle(r\"models\\dataframe-juan-final.pkl\")"
   ]
  }
 ],
 "metadata": {
  "kernelspec": {
   "display_name": "Python 3 (ipykernel)",
   "language": "python",
   "name": "python3"
  },
  "language_info": {
   "codemirror_mode": {
    "name": "ipython",
    "version": 3
   },
   "file_extension": ".py",
   "mimetype": "text/x-python",
   "name": "python",
   "nbconvert_exporter": "python",
   "pygments_lexer": "ipython3",
   "version": "3.9.16"
  }
 },
 "nbformat": 4,
 "nbformat_minor": 5
}
